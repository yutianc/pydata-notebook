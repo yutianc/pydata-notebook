{
 "cells": [
  {
   "cell_type": "code",
   "execution_count": 8,
   "metadata": {},
   "outputs": [
    {
     "data": {
      "text/plain": [
       "\"\\ndfcsv.to_excel('ttt.xlsx')\\ndfcsv.to_csv('ttt.csv')\\ndfcsv.to_html('ttt.html')\\ndfcsv.to_clipboard\\n\""
      ]
     },
     "execution_count": 8,
     "metadata": {},
     "output_type": "execute_result"
    }
   ],
   "source": [
    "import numpy as np\n",
    "import pandas as pd\n",
    "\n",
    "\n",
    "dfcsv = pd.read_csv('代扣记录20180326.csv')\n",
    "\n",
    "\"\"\"\n",
    "dfcsv.to_excel('ttt.xlsx')\n",
    "dfcsv.to_csv('ttt.csv')\n",
    "dfcsv.to_html('ttt.html')\n",
    "dfcsv.to_clipboard\n",
    "\"\"\"\n",
    "\n"
   ]
  },
  {
   "cell_type": "code",
   "execution_count": 13,
   "metadata": {},
   "outputs": [
    {
     "name": "stdout",
     "output_type": "stream",
     "text": [
      "Hello for input!\n",
      "Please input you name:\n",
      "Tommy\n",
      "Hello Tommy\n"
     ]
    }
   ],
   "source": [
    "print('Hello for input!')\n",
    "print('Please input you name:')\n",
    "strInput = input()\n",
    "print('Hello ' + strInput)"
   ]
  },
  {
   "cell_type": "code",
   "execution_count": 19,
   "metadata": {},
   "outputs": [
    {
     "name": "stdout",
     "output_type": "stream",
     "text": [
      "Hello 0\n",
      "Hello 1\n",
      "Hello 2\n",
      "Hello 3\n",
      "Hello 4\n"
     ]
    }
   ],
   "source": [
    "a = 0\n",
    "while a < 5:\n",
    "    print('Hello ' + str(a))\n",
    "    a = a + 1"
   ]
  },
  {
   "cell_type": "code",
   "execution_count": 21,
   "metadata": {},
   "outputs": [
    {
     "name": "stdout",
     "output_type": "stream",
     "text": [
      "pring output: 0\n",
      "pring output: 1\n",
      "pring output: 2\n",
      "pring output: 3\n",
      "pring output: 4\n",
      "pring output: 5\n",
      "pring output: 6\n",
      "pring output: 7\n",
      "pring output: 8\n",
      "pring output: 9\n"
     ]
    }
   ],
   "source": [
    "total = 1.0\n",
    "for i in range(10):\n",
    "    print('pring output: ' + str(i))"
   ]
  },
  {
   "cell_type": "code",
   "execution_count": 22,
   "metadata": {},
   "outputs": [
    {
     "name": "stdout",
     "output_type": "stream",
     "text": [
      "Hello string and loop for 1\n",
      "Hello string and loop for 11\n",
      "Hello string and loop for 21\n",
      "Hello string and loop for 31\n",
      "Hello string and loop for 41\n",
      "Hello string and loop for 51\n",
      "Hello string and loop for 61\n",
      "Hello string and loop for 71\n",
      "Hello string and loop for 81\n",
      "Hello string and loop for 91\n"
     ]
    }
   ],
   "source": [
    "for i in range(1,100,10):\n",
    "    print(\"Hello string and loop for {}\".format(i))"
   ]
  },
  {
   "cell_type": "code",
   "execution_count": 1,
   "metadata": {},
   "outputs": [
    {
     "name": "stdout",
     "output_type": "stream",
     "text": [
      "hello !\n",
      "Never come here !\n"
     ]
    }
   ],
   "source": [
    "import sys\n",
    "print(\"hello !\")\n",
    "#exit()\n",
    "print('Never come here ?! but realy come')"
   ]
  },
  {
   "cell_type": "code",
   "execution_count": 5,
   "metadata": {},
   "outputs": [
    {
     "name": "stdout",
     "output_type": "stream",
     "text": [
      "{' ': 9,\n",
      " 'I': 1,\n",
      " 'a': 2,\n",
      " 'd': 1,\n",
      " 'e': 1,\n",
      " 'h': 2,\n",
      " 'i': 3,\n",
      " 'n': 2,\n",
      " 'o': 3,\n",
      " 'r': 1,\n",
      " 's': 3,\n",
      " 't': 6,\n",
      " 'u': 1,\n",
      " 'w': 1,\n",
      " 'y': 1}\n"
     ]
    }
   ],
   "source": [
    "# prety print\n",
    "\n",
    "import pprint\n",
    "\n",
    "message = 'It is not sure to do that in this way'\n",
    "\n",
    "count = {}\n",
    "\n",
    "for character in message:\n",
    "    count.setdefault(character,0)\n",
    "    count[character] = count[character] + 1\n",
    "\n",
    "\n",
    "pprint.pprint(count)"
   ]
  },
  {
   "cell_type": "code",
   "execution_count": 10,
   "metadata": {},
   "outputs": [
    {
     "name": "stdout",
     "output_type": "stream",
     "text": [
      "This is a Raw string with \\n\\r any character\n",
      "\n",
      "  What... This is also a string\n",
      "  in multiline with any \\n\\r character....\n",
      "\n"
     ]
    },
    {
     "data": {
      "text/plain": [
       "\"\\nYES I'M MULTILINE COMMENTS.... NO NO NO, NOT COMMENTS JUST STRING\\n\""
      ]
     },
     "execution_count": 10,
     "metadata": {},
     "output_type": "execute_result"
    }
   ],
   "source": [
    "# raw string\n",
    "\n",
    "print(r'This is a Raw string with \\n\\r any character')\n",
    "\n",
    "print(r'''\n",
    "  What... This is also a string\n",
    "  in multiline with any \\n\\r character....\n",
    "''')\n",
    "\n",
    "\"\"\"\n",
    "Yes I'm multiline comments.... no no no, not comments just string\n",
    "\"\"\".upper()"
   ]
  },
  {
   "cell_type": "code",
   "execution_count": 15,
   "metadata": {},
   "outputs": [
    {
     "name": "stdout",
     "output_type": "stream",
     "text": [
      "Phone number found: 415-555-1011\n",
      "Phone number found: 415-555-9999\n",
      "Done\n"
     ]
    },
    {
     "data": {
      "text/plain": [
       "60"
      ]
     },
     "execution_count": 15,
     "metadata": {},
     "output_type": "execute_result"
    }
   ],
   "source": [
    "def isPhoneNumber(text):\n",
    "    if len(text) != 12:\n",
    "        return False\n",
    "    for i in range(0, 3):\n",
    "        if not text[i].isdecimal():\n",
    "            return False\n",
    "    if text[3] != '-':\n",
    "        return False\n",
    "    for i in range(4, 7):\n",
    "        if not text[i].isdecimal():\n",
    "            return False\n",
    "\n",
    "    if text[7] != '-':\n",
    "        return False\n",
    "    for i in range(8, 12):\n",
    "        if not text[i].isdecimal():\n",
    "            return False\n",
    "    return True\n",
    "\n",
    "\n",
    "message = 'Call me at 415-555-1011 tomorrow. 415-555-9999 is my office.'\n",
    "for i in range(len(message)):\n",
    "    chunk = message[i:i+12]\n",
    "    if isPhoneNumber(chunk):\n",
    "        print('Phone number found: ' + chunk)\n",
    "print('Done')\n",
    "\n",
    "len(message)"
   ]
  },
  {
   "cell_type": "markdown",
   "metadata": {},
   "source": [
    "### Review of Regular Expression Matching\n",
    "\n",
    "- Import the regex module with import re.\n",
    "\n",
    "- Create a Regex object with the re.compile() function. (Remember to use a raw string.)\n",
    "\n",
    "- Pass the string you want to search into the Regex object’s search() method. This returns a Match object.\n",
    "\n",
    "- Call the Match object’s group() method to return a string of the actual matched text.\n",
    "\n",
    "\n",
    "Web based regex tester http://regexpal.com/.\n",
    "\n",
    "\n",
    "### Review of Regex Symbols\n",
    "\n",
    "This chapter covered a lot of notation, so here’s a quick review of what you learned:\n",
    "\n",
    "- The ? matches zero or one of the preceding group.\n",
    "\n",
    "- The * matches zero or more of the preceding group.\n",
    "\n",
    "- The + matches one or more of the preceding group.\n",
    "\n",
    "- The {n} matches exactly n of the preceding group.\n",
    "\n",
    "- The {n,} matches n or more of the preceding group.\n",
    "\n",
    "- The {,m} matches 0 to m of the preceding group.\n",
    "\n",
    "- The {n,m} matches at least n and at most m of the preceding group.\n",
    "\n",
    "- {n,m}? or *? or +? performs a nongreedy match of the preceding group.\n",
    "\n",
    "- ^spam means the string must begin with spam.\n",
    "\n",
    "- spam$ means the string must end with spam.\n",
    "\n",
    "- The . matches any character, except newline characters.\n",
    "\n",
    "- \\d, \\w, and \\s match a digit, word, or space character, respectively.\n",
    "\n",
    "- \\D, \\W, and \\S match anything except a digit, word, or space character, respectively.\n",
    "\n",
    "- [abc] matches any character between the brackets (such as a, b, or c).\n",
    "\n",
    "- [^abc] matches any character that isn’t between the brackets."
   ]
  },
  {
   "cell_type": "code",
   "execution_count": 28,
   "metadata": {},
   "outputs": [
    {
     "data": {
      "text/plain": [
       "'415-555-1011'"
      ]
     },
     "execution_count": 28,
     "metadata": {},
     "output_type": "execute_result"
    }
   ],
   "source": [
    "# regular expressions\n",
    "\n",
    "import re\n",
    "\n",
    "\n",
    "rept = re.compile(r'\\d\\d\\d-\\d\\d\\d-\\d\\d\\d\\d')\n",
    "\n",
    "mm = rept.search('Call me at 415-555-1011 tomorrow. 415-555-9999 is my office.')\n",
    "\n",
    "mm.group()\n",
    "\n"
   ]
  },
  {
   "cell_type": "code",
   "execution_count": 42,
   "metadata": {},
   "outputs": [
    {
     "name": "stdout",
     "output_type": "stream",
     "text": [
      "415\n",
      "555-1011\n",
      "415-555-1011\n",
      "('415', '555-1011')\n",
      "[('415', '555-1011'), ('415', '555-9999')]\n",
      "\n"
     ]
    }
   ],
   "source": [
    "phoneNumRegex = re.compile(r'(\\d\\d\\d)-(\\d\\d\\d-\\d\\d\\d\\d)')\n",
    "\n",
    "mo = phoneNumRegex.search('Call me at 415-555-1011 tomorrow. 415-555-9999 is my office.')\n",
    "\n",
    "print(mo.group(1))\n",
    "print(mo.group(2))\n",
    "print(mo.group(0))\n",
    "print(mo.groups())\n",
    "\n",
    "print(phoneNumRegex.findall('Call me at 415-555-1011 tomorrow. 415-555-9999 is my office.'))\n",
    "\n"
   ]
  },
  {
   "cell_type": "code",
   "execution_count": 39,
   "metadata": {},
   "outputs": [
    {
     "data": {
      "text/plain": [
       "()"
      ]
     },
     "execution_count": 39,
     "metadata": {},
     "output_type": "execute_result"
    }
   ],
   "source": [
    "heroRegex = re.compile (r'Batman|Tina Fey|Puppy')\n",
    "mo1 = heroRegex.search('Batman and Puppy')\n",
    "mo1.groups()"
   ]
  },
  {
   "cell_type": "code",
   "execution_count": 60,
   "metadata": {},
   "outputs": [
    {
     "name": "stdout",
     "output_type": "stream",
     "text": [
      "/home/yutianc/github/pydata-notebook\n",
      "['.git', 'Python_learning_pandas.ipynb', 'datasets', '.gitignore', 'Chapter-14', 'Python_learning_scipy.ipynb', 'Chapter-05', 'Python-learning-notes_numpy.ipynb', '.ipynb_checkpoints', 'Chapter-03', 'Chapter-11', '_config.yml', 'Chapter-02', 'Chapter-04', 'README.md', 'MarkdownPhotos', 'examples', 'Python3 Notes 01.ipynb', 'Chapter-07', 'Chapter-09', 'Chapter-13', 'mydataset', 'Chapter-10', 'Chapter-12', 'Chapter-01', 'Chapter-08', 'Chapter-06', 'Python_learning_numpy.ipynb', 'Python_learning_matplotlib.ipynb', 'Appendix-A']\n",
      "20807\n",
      "/home/yutianc/github/pydata-notebook/mydataset\n"
     ]
    }
   ],
   "source": [
    "import os\n",
    "path = os.path.join('/','home','yutianc','github','pydata-notebook')\n",
    "\n",
    "os.chdir(path)\n",
    "\n",
    "print(os.getcwd())\n",
    "print(os.listdir())\n",
    "\n",
    "print(os.path.getsize(os.path.join('/','home','yutianc','github','pydata-notebook','README.md')))\n",
    "\n",
    "os.chdir(os.path.join('/','home','yutianc','github','pydata-notebook','mydataset'))\n",
    "\n",
    "print(os.getcwd())\n"
   ]
  },
  {
   "cell_type": "code",
   "execution_count": 65,
   "metadata": {},
   "outputs": [
    {
     "data": {
      "text/plain": [
       "['ttt.xlsx',\n",
       " '代扣记录20180326.csv',\n",
       " '.ipynb_checkpoints',\n",
       " 'ttt.html',\n",
       " 'ttt.csv',\n",
       " 'ttt2.csv',\n",
       " 'python_with_datas.ipynb']"
      ]
     },
     "execution_count": 65,
     "metadata": {},
     "output_type": "execute_result"
    }
   ],
   "source": [
    "import os, shutil\n",
    "\n",
    "os.listdir()\n",
    "\n",
    "shutil.copy('ttt.csv','ttt2.csv')\n",
    "os.listdir()"
   ]
  },
  {
   "cell_type": "markdown",
   "metadata": {},
   "source": [
    "### Walking a Directory Tree\n",
    "\n",
    "- A string of the current folder’s name\n",
    "\n",
    "- A list of strings of the folders in the current folder\n",
    "\n",
    "- A list of strings of the files in the current folder"
   ]
  },
  {
   "cell_type": "code",
   "execution_count": 80,
   "metadata": {},
   "outputs": [
    {
     "name": "stdout",
     "output_type": "stream",
     "text": [
      "The current folder is /home/yutianc/github/pydata-notebook/mydataset/\n",
      "SUBFOLDER OF /home/yutianc/github/pydata-notebook/mydataset/: .ipynb_checkpoints\n",
      "\n",
      "FILE INSIDE /home/yutianc/github/pydata-notebook/mydataset/: ttt.xlsx\n",
      "FILE INSIDE /home/yutianc/github/pydata-notebook/mydataset/: 代扣记录20180326.csv\n",
      "FILE INSIDE /home/yutianc/github/pydata-notebook/mydataset/: ttt.html\n",
      "FILE INSIDE /home/yutianc/github/pydata-notebook/mydataset/: ttt.csv\n",
      "FILE INSIDE /home/yutianc/github/pydata-notebook/mydataset/: ttt2.csv\n",
      "FILE INSIDE /home/yutianc/github/pydata-notebook/mydataset/: python_with_datas.ipynb\n",
      "\n",
      "The current folder is /home/yutianc/github/pydata-notebook/mydataset/.ipynb_checkpoints\n",
      "\n",
      "FILE INSIDE /home/yutianc/github/pydata-notebook/mydataset/.ipynb_checkpoints: python_with_datas-checkpoint.ipynb\n",
      "\n"
     ]
    }
   ],
   "source": [
    "## Work through path\n",
    "\n",
    "import os\n",
    "\n",
    "for folderName, subfolders, filenames in os.walk('/home/yutianc/github/pydata-notebook/mydataset/'):\n",
    "    print('The current folder is ' + folderName)\n",
    "\n",
    "    for subfolder in subfolders:\n",
    "        print('SUBFOLDER OF ' + folderName + ': ' + subfolder)\n",
    "        \n",
    "    print('')\n",
    "        \n",
    "    for filename in filenames:\n",
    "        print('FILE INSIDE ' + folderName + ': '+ filename)\n",
    "\n",
    "    print('')\n"
   ]
  },
  {
   "cell_type": "markdown",
   "metadata": {},
   "source": [
    "### Reading ZIP Files\n",
    "\n"
   ]
  },
  {
   "cell_type": "code",
   "execution_count": 97,
   "metadata": {},
   "outputs": [
    {
     "name": "stdout",
     "output_type": "stream",
     "text": [
      "['2018032700000288-51-req.xml.log',\n",
      " '2018032700000288-51-res.xml.log',\n",
      " '2018032700000317-55-req.xml.log',\n",
      " '2018032700000317-55-res.xml.log']\n",
      "<ZipInfo filename='2018032700000288-51-req.xml.log' compress_type=deflate file_size=5704 compress_size=1321>\n",
      "5704\n",
      "1321\n"
     ]
    }
   ],
   "source": [
    "import zipfile, os,pprint\n",
    "\n",
    "os.chdir('/home/yutianc/github/pydata-notebook/mydataset/')  # move to the folder\n",
    "\n",
    "os.listdir()\n",
    "\n",
    "exazip = zipfile.ZipFile('2018032700000288.zip')\n",
    "pprint.pprint(exazip.namelist())\n",
    "\n",
    "fileinfo = exazip.getinfo('2018032700000288-51-req.xml.log')\n",
    "pprint.pprint(fileinfo)\n",
    "\n",
    "print(fileinfo.file_size)\n",
    "print(fileinfo.compress_size)\n",
    "\n",
    "exazip.extractall(path='zipexamples')\n"
   ]
  },
  {
   "cell_type": "code",
   "execution_count": 99,
   "metadata": {},
   "outputs": [],
   "source": [
    "# Create new zip file\n",
    "\n",
    "import zipfile\n",
    "\n",
    "newZip = zipfile.ZipFile('justtestzipfile.zip','w')\n",
    "newZip.write('zipexamples',compress_type=zipfile.ZIP_DEFLATED)\n",
    "\n",
    "newZip.close()"
   ]
  },
  {
   "cell_type": "code",
   "execution_count": 119,
   "metadata": {},
   "outputs": [
    {
     "name": "stdout",
     "output_type": "stream",
     "text": [
      "6626\n"
     ]
    },
    {
     "name": "stderr",
     "output_type": "stream",
     "text": [
      "/home/yutianc/anaconda3/lib/python3.6/site-packages/bs4/__init__.py:181: UserWarning: No parser was explicitly specified, so I'm using the best available HTML parser for this system (\"lxml\"). This usually isn't a problem, but if you run this code on another system, or in a different virtual environment, it may use a different parser and behave differently.\n",
      "\n",
      "The code that caused this warning is on line 193 of the file /home/yutianc/anaconda3/lib/python3.6/runpy.py. To get rid of this warning, change code that looks like this:\n",
      "\n",
      " BeautifulSoup(YOUR_MARKUP})\n",
      "\n",
      "to this:\n",
      "\n",
      " BeautifulSoup(YOUR_MARKUP, \"lxml\")\n",
      "\n",
      "  markup_type=markup_type))\n"
     ]
    },
    {
     "ename": "TypeError",
     "evalue": "select() missing 1 required positional argument: 'selector'",
     "output_type": "error",
     "traceback": [
      "\u001b[0;31m---------------------------------------------------------------------------\u001b[0m",
      "\u001b[0;31mTypeError\u001b[0m                                 Traceback (most recent call last)",
      "\u001b[0;32m<ipython-input-119-ea9927d4683f>\u001b[0m in \u001b[0;36m<module>\u001b[0;34m()\u001b[0m\n\u001b[1;32m     20\u001b[0m \u001b[0mnoStarchSoup\u001b[0m \u001b[0;34m=\u001b[0m \u001b[0mbs4\u001b[0m\u001b[0;34m.\u001b[0m\u001b[0mBeautifulSoup\u001b[0m\u001b[0;34m(\u001b[0m\u001b[0mres\u001b[0m\u001b[0;34m.\u001b[0m\u001b[0mtext\u001b[0m\u001b[0;34m)\u001b[0m\u001b[0;34m\u001b[0m\u001b[0m\n\u001b[1;32m     21\u001b[0m \u001b[0;34m\u001b[0m\u001b[0m\n\u001b[0;32m---> 22\u001b[0;31m \u001b[0mnoStarchSoup\u001b[0m\u001b[0;34m.\u001b[0m\u001b[0mselect\u001b[0m\u001b[0;34m(\u001b[0m\u001b[0;34m)\u001b[0m\u001b[0;34m\u001b[0m\u001b[0m\n\u001b[0m",
      "\u001b[0;31mTypeError\u001b[0m: select() missing 1 required positional argument: 'selector'"
     ]
    }
   ],
   "source": [
    "import webbrowser ,requests, bs4\n",
    "\n",
    "webbrowser.open('http://inventwithpython.com/')\n",
    "\n",
    "res = requests.get('http://192.168.180.33:8888/tree/github/pydata-notebook/mydataset')\n",
    "\n",
    "type(res)\n",
    "\n",
    "res.status_code == requests.codes.ok\n",
    "\n",
    "try:\n",
    "    res.raise_for_status()\n",
    "except Exception as exc:\n",
    "    print('There was a problem: %s' % (exc))\n",
    "\n",
    "print(len(res.text))\n",
    "\n",
    "bs4.BeautifulSoup?\n",
    "\n",
    "noStarchSoup = bs4.BeautifulSoup(res.text)\n",
    "\n",
    "noStarchSoup.select()"
   ]
  },
  {
   "cell_type": "code",
   "execution_count": null,
   "metadata": {},
   "outputs": [],
   "source": []
  },
  {
   "cell_type": "code",
   "execution_count": null,
   "metadata": {},
   "outputs": [],
   "source": []
  },
  {
   "cell_type": "code",
   "execution_count": null,
   "metadata": {},
   "outputs": [],
   "source": []
  },
  {
   "cell_type": "code",
   "execution_count": null,
   "metadata": {},
   "outputs": [],
   "source": []
  },
  {
   "cell_type": "code",
   "execution_count": null,
   "metadata": {},
   "outputs": [],
   "source": []
  },
  {
   "cell_type": "code",
   "execution_count": null,
   "metadata": {},
   "outputs": [],
   "source": []
  },
  {
   "cell_type": "code",
   "execution_count": null,
   "metadata": {},
   "outputs": [],
   "source": []
  },
  {
   "cell_type": "code",
   "execution_count": null,
   "metadata": {},
   "outputs": [],
   "source": []
  },
  {
   "cell_type": "code",
   "execution_count": null,
   "metadata": {},
   "outputs": [],
   "source": []
  },
  {
   "cell_type": "code",
   "execution_count": null,
   "metadata": {},
   "outputs": [],
   "source": []
  },
  {
   "cell_type": "code",
   "execution_count": null,
   "metadata": {},
   "outputs": [],
   "source": []
  },
  {
   "cell_type": "code",
   "execution_count": null,
   "metadata": {},
   "outputs": [],
   "source": []
  },
  {
   "cell_type": "code",
   "execution_count": null,
   "metadata": {},
   "outputs": [],
   "source": []
  }
 ],
 "metadata": {
  "kernelspec": {
   "display_name": "Python 3",
   "language": "python",
   "name": "python3"
  },
  "language_info": {
   "codemirror_mode": {
    "name": "ipython",
    "version": 3
   },
   "file_extension": ".py",
   "mimetype": "text/x-python",
   "name": "python",
   "nbconvert_exporter": "python",
   "pygments_lexer": "ipython3",
   "version": "3.6.4"
  }
 },
 "nbformat": 4,
 "nbformat_minor": 2
}
