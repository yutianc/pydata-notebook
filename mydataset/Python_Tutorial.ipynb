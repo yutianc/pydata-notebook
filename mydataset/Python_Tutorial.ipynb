{
 "cells": [
  {
   "cell_type": "markdown",
   "metadata": {},
   "source": [
    "## 1. Introduction to Strings in Python\n"
   ]
  },
  {
   "cell_type": "code",
   "execution_count": 1,
   "metadata": {},
   "outputs": [
    {
     "name": "stdout",
     "output_type": "stream",
     "text": [
      "Meet me tonight\n"
     ]
    }
   ],
   "source": [
    "message = \"Meet me tonight\"\n",
    "print(message)"
   ]
  },
  {
   "cell_type": "code",
   "execution_count": 16,
   "metadata": {},
   "outputs": [
    {
     "name": "stdout",
     "output_type": "stream",
     "text": [
      "I'm looking for someone to share in an adventure\n",
      "I'm looking for someone to share in an adventure\n",
      "I'm looking for someone \n",
      " to share in an adventure\n",
      "I'm looking for someone \\n to share in an adventure\n",
      "\n",
      "I'm looking for someone\n",
      "to share\n",
      "in an adventure\n",
      "\n"
     ]
    }
   ],
   "source": [
    "message2 = 'I\\'m looking for someone to share in an adventure'\n",
    "print(message2)\n",
    "\n",
    "message3 = \"I'm looking for someone to share in an adventure\"\n",
    "print(message3)\n",
    "\n",
    "message4 = \"I'm looking for someone \\n to share in an adventure\"\n",
    "print(message4)\n",
    "\n",
    "message5 = r\"I'm looking for someone \\n to share in an adventure\"\n",
    "print(message5)\n",
    "\n",
    "message6 = '''\n",
    "I'm looking for someone\n",
    "to share\n",
    "in an adventure\n",
    "'''\n",
    "print(message6)\n"
   ]
  },
  {
   "cell_type": "markdown",
   "metadata": {},
   "source": [
    "## 2. Number in Python3\n",
    "\n",
    "- int        (just cureate int as  large as you want)\n",
    "- float\n",
    "- complex"
   ]
  },
  {
   "cell_type": "code",
   "execution_count": 29,
   "metadata": {},
   "outputs": [
    {
     "name": "stdout",
     "output_type": "stream",
     "text": [
      "9223372036854775807\n",
      "<class 'int'>\n",
      "<class 'float'>\n",
      "<class 'complex'>\n",
      "2.0\n",
      "-6.1\n"
     ]
    }
   ],
   "source": [
    "import sys\n",
    "print(sys.maxsize)\n",
    "\n",
    "int1 = 1    \n",
    "\n",
    "print(type(int1))\n",
    "\n",
    "flt = 1231231231231231.2312312312312\n",
    "print(type(flt))\n",
    "\n",
    "z = 2 - 6.1j\n",
    "print(type(z))\n",
    "\n",
    "print(z.real)\n",
    "print(z.imag)"
   ]
  },
  {
   "cell_type": "markdown",
   "metadata": {},
   "source": [
    "## 3. Arithmetic in Python3"
   ]
  },
  {
   "cell_type": "code",
   "execution_count": 37,
   "metadata": {},
   "outputs": [
    {
     "name": "stdout",
     "output_type": "stream",
     "text": [
      "8.0\n",
      "-4.0\n",
      "14\n",
      "42.0\n",
      "(2+0j)\n"
     ]
    }
   ],
   "source": [
    "a = 2 # int\n",
    "b = 6.0 #float\n",
    "c = 12 + 0j # complex number\n",
    "\n",
    "# Rule: winden numbers so they're the same type to calculate\n",
    "\n",
    "# Addition\n",
    "print(a + b)   # int + float\n",
    "\n",
    "#Subtraction\n",
    "print(a - b)\n",
    "\n",
    "#Multiplication\n",
    "print(a * 7)  # int * int\n",
    "\n",
    "print(b * 7)  # int * float\n",
    "\n",
    "#Division\n",
    "print(c/b)\n",
    "\n"
   ]
  },
  {
   "cell_type": "markdown",
   "metadata": {},
   "source": [
    "## Interactive Help"
   ]
  },
  {
   "cell_type": "code",
   "execution_count": 71,
   "metadata": {},
   "outputs": [
    {
     "data": {
      "text/plain": [
       "1024"
      ]
     },
     "execution_count": 71,
     "metadata": {},
     "output_type": "execute_result"
    }
   ],
   "source": [
    "dir()  # Short for directory\n",
    "\n",
    "#print(dir())\n",
    "#print(dir('__builtin__'))\n",
    "#print(dir('__builtins__'))\n",
    "\n",
    "#help(pow)\n",
    "\n",
    "#help(hex)\n",
    "\n",
    "pow(2,10)"
   ]
  },
  {
   "cell_type": "code",
   "execution_count": 54,
   "metadata": {},
   "outputs": [
    {
     "name": "stdout",
     "output_type": "stream",
     "text": [
      "1000\n"
     ]
    }
   ],
   "source": [
    "hex(1000)\n",
    "\n",
    "print(0x3e8)"
   ]
  },
  {
   "cell_type": "code",
   "execution_count": 68,
   "metadata": {},
   "outputs": [
    {
     "name": "stdout",
     "output_type": "stream",
     "text": [
      "Help on built-in function radians in module math:\n",
      "\n",
      "radians(...)\n",
      "    radians(x)\n",
      "    \n",
      "    Convert angle x from degrees to radians.\n",
      "\n"
     ]
    },
    {
     "data": {
      "text/plain": [
       "6.283185307179586"
      ]
     },
     "execution_count": 68,
     "metadata": {},
     "output_type": "execute_result"
    }
   ],
   "source": [
    "#help('math')\n",
    "\n",
    "from math import radians\n",
    "\n",
    "#dir(math)\n",
    "help(radians)\n",
    "\n",
    "radians(360)"
   ]
  },
  {
   "attachments": {
    "ConvertToBoolean.png": {
     "image/png": "[encoded data removed]"
    },
    "ConvertToBoolean1.png": {
     "image/png": "[encoded data removed]"
    }
   },
   "cell_type": "markdown",
   "metadata": {},
   "source": [
    "### Boolean\n",
    "\n",
    "![ConvertToBoolean.png](attachment:ConvertToBoolean.png)\n",
    "\n",
    "![ConvertToBoolean1.png](attachment:ConvertToBoolean1.png)"
   ]
  },
  {
   "cell_type": "code",
   "execution_count": 85,
   "metadata": {},
   "outputs": [
    {
     "name": "stdout",
     "output_type": "stream",
     "text": [
      "TrueTrueFalse\n",
      "TrueTrueFalse\n",
      "True\n",
      "False\n",
      "1\n",
      "0\n",
      "6\n",
      "0\n"
     ]
    }
   ],
   "source": [
    "True\n",
    "False\n",
    "\n",
    "a=100\n",
    "b=1000\n",
    "a==b\n",
    "\n",
    "type(a)\n",
    "type(True)\n",
    "\n",
    "print(bool(1232),end='')\n",
    "print(bool(-1232),end='')\n",
    "print(bool(0))\n",
    "\n",
    "print(bool('Flase'),end='')\n",
    "print(bool(' '),end='')\n",
    "print(bool(''))\n",
    "\n",
    "print(str(True))\n",
    "print(str(False))\n",
    "print(int(True))\n",
    "print(int(False))\n",
    "\n",
    "print(5 + True)\n",
    "print(5 * False)\n",
    "\n"
   ]
  },
  {
   "cell_type": "markdown",
   "metadata": {},
   "source": [
    "### Date and Time"
   ]
  },
  {
   "cell_type": "code",
   "execution_count": 99,
   "metadata": {},
   "outputs": [
    {
     "name": "stdout",
     "output_type": "stream",
     "text": [
      "9999\n",
      "1\n",
      "1956-01-31\n",
      "Tuesday, January, 31, 1956\n",
      "GVR was born on Tuesday, January, 31, 1956.\n",
      "2018-03-31 23:22:18.387676\n",
      "1969-07-20 00:00:00\n"
     ]
    }
   ],
   "source": [
    "import datetime\n",
    "\n",
    "print(datetime.MAXYEAR)\n",
    "print(datetime.MINYEAR)\n",
    "\n",
    "#help(datetime)\n",
    "#dir(datetime)\n",
    "\n",
    "gvr = datetime.date(1956,1,31)\n",
    "print(gvr)\n",
    "\n",
    "# Day-name , Month-name Day-#, Year\n",
    "print(gvr.strftime(\"%A, %B, %d, %Y\"))\n",
    "message = 'GVR was born on {:%A, %B, %d, %Y}.'\n",
    "print(message.format(gvr))\n",
    "\n",
    "# Acsse current date time\n",
    "now = datetime.datetime.today()\n",
    "print(now)\n",
    "\n",
    "#convert string to datetime\n",
    "moon_landing = \"7/20/1969\"\n",
    "moon_landing_datetime = datetime.datetime.strptime(moon_landing,'%m/%d/%Y')\n",
    "print(moon_landing_datetime)"
   ]
  },
  {
   "cell_type": "markdown",
   "metadata": {},
   "source": [
    "### Functions\n"
   ]
  },
  {
   "cell_type": "code",
   "execution_count": 121,
   "metadata": {},
   "outputs": [
    {
     "name": "stdout",
     "output_type": "stream",
     "text": [
      "<class 'int'>\n",
      "<class 'str'>\n",
      "<class 'bool'>\n"
     ]
    }
   ],
   "source": [
    "#dir()\n",
    "\n",
    "def fff(intIn):\n",
    "    if intIn == 1:\n",
    "        return 1\n",
    "    elif intIn == 2:\n",
    "        return \"2\"\n",
    "    elif intIn >=3:\n",
    "        return True\n",
    "    \n",
    "print(type(fff(1)))\n",
    "print(type(fff(2)))\n",
    "print(type(fff(3)))\n",
    "    "
   ]
  },
  {
   "cell_type": "code",
   "execution_count": 129,
   "metadata": {},
   "outputs": [
    {
     "name": "stdout",
     "output_type": "stream",
     "text": [
      "33.510321638291124\n",
      "Help on function calcVolume in module __main__:\n",
      "\n",
      "calcVolume(r)\n",
      "    Returns the volume of a sphere with given radius r.\n",
      "\n"
     ]
    }
   ],
   "source": [
    "def calcVolume(r):\n",
    "    \"\"\"Returns the volume of a sphere with given radius r.\"\"\"\n",
    "    import math\n",
    "    v = (4.0/3.0) * math.pi * r**3\n",
    "    return v\n",
    "\n",
    "print(calcVolume(2))\n",
    "\n",
    "help(calcVolume)"
   ]
  },
  {
   "cell_type": "markdown",
   "metadata": {},
   "source": [
    "###  Set    (order not matter, no duplication)\n",
    "###  List    (Order does matter, allow duplication)\n",
    "###  Dictionaries  (Key - value pairs, key not allow duplication)"
   ]
  },
  {
   "cell_type": "code",
   "execution_count": 133,
   "metadata": {},
   "outputs": [
    {
     "data": {
      "text/plain": [
       "{1, 3.34343, False, 'whatever it is!'}"
      ]
     },
     "execution_count": 133,
     "metadata": {},
     "output_type": "execute_result"
    }
   ],
   "source": [
    "exampleSet = set()\n",
    "exampleSet.add(1)\n",
    "exampleSet.add(False)\n",
    "exampleSet.add(3.34343)\n",
    "exampleSet.add(\"whatever it is!\")\n",
    "\n",
    "exampleSet\n"
   ]
  },
  {
   "cell_type": "markdown",
   "metadata": {},
   "source": [
    "### Fibonacci numbers\n",
    "\n",
    "#### about recurise\n"
   ]
  },
  {
   "cell_type": "code",
   "execution_count": 155,
   "metadata": {},
   "outputs": [],
   "source": [
    "fibonacci_cache = {}\n",
    "\n",
    "def fibonacci(n):\n",
    "    if n in fibonacci_cache:\n",
    "        return fibonacci_cache.get(n)\n",
    "    \n",
    "    value = 0\n",
    "    if n == 1:\n",
    "        value = 1\n",
    "    elif n == 2:\n",
    "        value = 1\n",
    "    elif n > 2 :\n",
    "        value = fibonacci(n-1) + fibonacci(n-2)\n",
    "    \n",
    "    fibonacci_cache[n] = value\n",
    "    return value\n",
    " \n",
    "from functools import lru_cache\n",
    "\n",
    "@lru_cache(maxsize = 1000)\n",
    "def fibonacci_LRU(n):\n",
    "    if n == 1:\n",
    "        return 1\n",
    "    elif n == 2:\n",
    "        return 1\n",
    "    elif n > 2 :\n",
    "        return fibonacci(n-1) + fibonacci(n-2)\n",
    "    \n",
    "#for n in range(1, 100):\n",
    "#    print(n, \":\", fibonacci(n))\n",
    "    \n",
    "#for n in range(1, 100):\n",
    "#    print(n, \":\", fibonacci_LRU(n))\n",
    "    \n",
    "    "
   ]
  },
  {
   "cell_type": "markdown",
   "metadata": {},
   "source": [
    "### Random in Python\n",
    "\n",
    "- random   (uniform distribution)"
   ]
  },
  {
   "cell_type": "code",
   "execution_count": 168,
   "metadata": {},
   "outputs": [],
   "source": [
    "import random\n",
    "\n",
    "'''\n",
    "for i in range(10):\n",
    "    print(random.random())\n",
    "    \n",
    "for i in range(10):\n",
    "    print(random.uniform(3,7))\n",
    "    \n",
    "for i in range(10):\n",
    "    print(random.randint(0,100))\n",
    "'''\n",
    "pass"
   ]
  },
  {
   "cell_type": "code",
   "execution_count": 193,
   "metadata": {},
   "outputs": [],
   "source": [
    "import json,os\n",
    "\n",
    "movices = {}\n",
    "movices[\"title\"] = \"终极玩家\"\n",
    "movices[\"dirctor\"] = \"Steven Spielberg\"\n",
    "movices[\"actors\"] = [\"Tom Cruise\",\"Colin Farrell\",\"Samantha Morton\",\"Max Von Sydow\"]\n",
    "movices[\"budget\"] = 100200000\n",
    "movices[\"is_awesome\"] = True\n",
    "movices[\"ttt\"] = None\n",
    "\n",
    "fileJson = open('Movices_json.txt','w',encoding='utf-8')\n",
    "json.dump(movices, fileJson, ensure_ascii=False)\n",
    "fileJson.close()\n",
    "#os.listdir()"
   ]
  },
  {
   "cell_type": "code",
   "execution_count": 192,
   "metadata": {},
   "outputs": [
    {
     "name": "stdout",
     "output_type": "stream",
     "text": [
      "['', '下载报文', '代扣银行', '对公&#x2F;私', '处理状态', '日期', '付款账号', '付款户名', '金额', '收款户名', '收款账号', '描述信息/处理建议', '创建日期', '更新日期', '合同编号', '扣款费项', '优先级.时间', '费用期间']\n"
     ]
    }
   ],
   "source": [
    "import os, csv, datetime\n",
    "\n",
    "path = 'ttt.csv'\n",
    "file = open(path, newline='')\n",
    "reader = csv.reader(file)\n",
    "\n",
    "header = next(reader)  # reader the first line\n",
    "print(header)\n",
    "\n",
    "data = []\n",
    "for row in reader:\n",
    "    #print(row)\n",
    "    pass\n",
    "\n",
    "file.close()"
   ]
  },
  {
   "cell_type": "code",
   "execution_count": 203,
   "metadata": {},
   "outputs": [
    {
     "name": "stdout",
     "output_type": "stream",
     "text": [
      "Help on class set in module builtins:\n",
      "\n",
      "class set(object)\n",
      " |  set() -> new empty set object\n",
      " |  set(iterable) -> new set object\n",
      " |  \n",
      " |  Build an unordered collection of unique elements.\n",
      " |  \n",
      " |  Methods defined here:\n",
      " |  \n",
      " |  __and__(self, value, /)\n",
      " |      Return self&value.\n",
      " |  \n",
      " |  __contains__(...)\n",
      " |      x.__contains__(y) <==> y in x.\n",
      " |  \n",
      " |  __eq__(self, value, /)\n",
      " |      Return self==value.\n",
      " |  \n",
      " |  __ge__(self, value, /)\n",
      " |      Return self>=value.\n",
      " |  \n",
      " |  __getattribute__(self, name, /)\n",
      " |      Return getattr(self, name).\n",
      " |  \n",
      " |  __gt__(self, value, /)\n",
      " |      Return self>value.\n",
      " |  \n",
      " |  __iand__(self, value, /)\n",
      " |      Return self&=value.\n",
      " |  \n",
      " |  __init__(self, /, *args, **kwargs)\n",
      " |      Initialize self.  See help(type(self)) for accurate signature.\n",
      " |  \n",
      " |  __ior__(self, value, /)\n",
      " |      Return self|=value.\n",
      " |  \n",
      " |  __isub__(self, value, /)\n",
      " |      Return self-=value.\n",
      " |  \n",
      " |  __iter__(self, /)\n",
      " |      Implement iter(self).\n",
      " |  \n",
      " |  __ixor__(self, value, /)\n",
      " |      Return self^=value.\n",
      " |  \n",
      " |  __le__(self, value, /)\n",
      " |      Return self<=value.\n",
      " |  \n",
      " |  __len__(self, /)\n",
      " |      Return len(self).\n",
      " |  \n",
      " |  __lt__(self, value, /)\n",
      " |      Return self<value.\n",
      " |  \n",
      " |  __ne__(self, value, /)\n",
      " |      Return self!=value.\n",
      " |  \n",
      " |  __new__(*args, **kwargs) from builtins.type\n",
      " |      Create and return a new object.  See help(type) for accurate signature.\n",
      " |  \n",
      " |  __or__(self, value, /)\n",
      " |      Return self|value.\n",
      " |  \n",
      " |  __rand__(self, value, /)\n",
      " |      Return value&self.\n",
      " |  \n",
      " |  __reduce__(...)\n",
      " |      Return state information for pickling.\n",
      " |  \n",
      " |  __repr__(self, /)\n",
      " |      Return repr(self).\n",
      " |  \n",
      " |  __ror__(self, value, /)\n",
      " |      Return value|self.\n",
      " |  \n",
      " |  __rsub__(self, value, /)\n",
      " |      Return value-self.\n",
      " |  \n",
      " |  __rxor__(self, value, /)\n",
      " |      Return value^self.\n",
      " |  \n",
      " |  __sizeof__(...)\n",
      " |      S.__sizeof__() -> size of S in memory, in bytes\n",
      " |  \n",
      " |  __sub__(self, value, /)\n",
      " |      Return self-value.\n",
      " |  \n",
      " |  __xor__(self, value, /)\n",
      " |      Return self^value.\n",
      " |  \n",
      " |  add(...)\n",
      " |      Add an element to a set.\n",
      " |      \n",
      " |      This has no effect if the element is already present.\n",
      " |  \n",
      " |  clear(...)\n",
      " |      Remove all elements from this set.\n",
      " |  \n",
      " |  copy(...)\n",
      " |      Return a shallow copy of a set.\n",
      " |  \n",
      " |  difference(...)\n",
      " |      Return the difference of two or more sets as a new set.\n",
      " |      \n",
      " |      (i.e. all elements that are in this set but not the others.)\n",
      " |  \n",
      " |  difference_update(...)\n",
      " |      Remove all elements of another set from this set.\n",
      " |  \n",
      " |  discard(...)\n",
      " |      Remove an element from a set if it is a member.\n",
      " |      \n",
      " |      If the element is not a member, do nothing.\n",
      " |  \n",
      " |  intersection(...)\n",
      " |      Return the intersection of two sets as a new set.\n",
      " |      \n",
      " |      (i.e. all elements that are in both sets.)\n",
      " |  \n",
      " |  intersection_update(...)\n",
      " |      Update a set with the intersection of itself and another.\n",
      " |  \n",
      " |  isdisjoint(...)\n",
      " |      Return True if two sets have a null intersection.\n",
      " |  \n",
      " |  issubset(...)\n",
      " |      Report whether another set contains this set.\n",
      " |  \n",
      " |  issuperset(...)\n",
      " |      Report whether this set contains another set.\n",
      " |  \n",
      " |  pop(...)\n",
      " |      Remove and return an arbitrary set element.\n",
      " |      Raises KeyError if the set is empty.\n",
      " |  \n",
      " |  remove(...)\n",
      " |      Remove an element from a set; it must be a member.\n",
      " |      \n",
      " |      If the element is not a member, raise a KeyError.\n",
      " |  \n",
      " |  symmetric_difference(...)\n",
      " |      Return the symmetric difference of two sets as a new set.\n",
      " |      \n",
      " |      (i.e. all elements that are in exactly one of the sets.)\n",
      " |  \n",
      " |  symmetric_difference_update(...)\n",
      " |      Update a set with the symmetric difference of itself and another.\n",
      " |  \n",
      " |  union(...)\n",
      " |      Return the union of sets as a new set.\n",
      " |      \n",
      " |      (i.e. all elements that are in either set.)\n",
      " |  \n",
      " |  update(...)\n",
      " |      Update a set with the union of itself and others.\n",
      " |  \n",
      " |  ----------------------------------------------------------------------\n",
      " |  Data and other attributes defined here:\n",
      " |  \n",
      " |  __hash__ = None\n",
      "\n"
     ]
    }
   ],
   "source": [
    "help(set)"
   ]
  },
  {
   "cell_type": "code",
   "execution_count": null,
   "metadata": {},
   "outputs": [],
   "source": []
  },
  {
   "cell_type": "code",
   "execution_count": null,
   "metadata": {},
   "outputs": [],
   "source": []
  },
  {
   "cell_type": "code",
   "execution_count": null,
   "metadata": {},
   "outputs": [],
   "source": []
  },
  {
   "cell_type": "code",
   "execution_count": null,
   "metadata": {},
   "outputs": [],
   "source": []
  },
  {
   "cell_type": "code",
   "execution_count": null,
   "metadata": {},
   "outputs": [],
   "source": []
  },
  {
   "cell_type": "code",
   "execution_count": null,
   "metadata": {},
   "outputs": [],
   "source": []
  }
 ],
 "metadata": {
  "kernelspec": {
   "display_name": "Python 3",
   "language": "python",
   "name": "python3"
  },
  "language_info": {
   "codemirror_mode": {
    "name": "ipython",
    "version": 3
   },
   "file_extension": ".py",
   "mimetype": "text/x-python",
   "name": "python",
   "nbconvert_exporter": "python",
   "pygments_lexer": "ipython3",
   "version": "3.6.4"
  }
 },
 "nbformat": 4,
 "nbformat_minor": 2
}
