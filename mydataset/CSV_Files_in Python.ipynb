{
 "cells": [
  {
   "cell_type": "code",
   "execution_count": 19,
   "metadata": {},
   "outputs": [
    {
     "name": "stdout",
     "output_type": "stream",
     "text": [
      "['Dialect', 'DictReader', 'DictWriter', 'Error', 'OrderedDict', 'QUOTE_ALL', 'QUOTE_MINIMAL', 'QUOTE_NONE', 'QUOTE_NONNUMERIC', 'Sniffer', 'StringIO', '_Dialect', '__all__', '__builtins__', '__cached__', '__doc__', '__file__', '__loader__', '__name__', '__package__', '__spec__', '__version__', 'excel', 'excel_tab', 'field_size_limit', 'get_dialect', 'list_dialects', 're', 'reader', 'register_dialect', 'unix_dialect', 'unregister_dialect', 'writer']\n",
      "['', '下载报文', '代扣银行', '对公&#x2F;私', '处理状态', '日期', '付款账号', '付款户名', '金额', '收款户名', '收款账号', '描述信息/处理建议', '创建日期', '更新日期', '合同编号', '扣款费项', '优先级.时间', '费用期间']\n",
      "['0', 'JDE2018032600000001', '招商银行', '对私', '失败', '20180326', '6214850113273095', '刘珊珊', '             105,683.63', '北京展鹏世纪投资管理有限公司', '110906513610501', 'A3A0217: 账户透支', '2018-03-26', '2018-03-26', '16070060', 'ZJ1 ', '1.20170325', '20170401.2017063']\n"
     ]
    }
   ],
   "source": [
    "import csv,os\n",
    "\n",
    "#\n",
    "print(dir(csv))\n",
    "\n",
    "pathfilename = 'ttt.csv'\n",
    "csvfile = open(pathfilename,newline='')\n",
    "csvreader = csv.reader(csvfile)\n",
    "\n",
    "header  = next(csvreader)\n",
    "print(header)\n",
    "\n",
    "datarows = [row for row in csvreader]\n",
    "print(datarows[0])"
   ]
  },
  {
   "cell_type": "code",
   "execution_count": 18,
   "metadata": {},
   "outputs": [
    {
     "data": {
      "text/plain": [
       "95"
      ]
     },
     "execution_count": 18,
     "metadata": {},
     "output_type": "execute_result"
    }
   ],
   "source": [
    "return_path = \"gl_returns_csv.csv\"\n",
    "file = open(return_path,'w')\n",
    "writer = csv.writer(file)\n",
    "\n",
    "writer.writerow(header)"
   ]
  },
  {
   "cell_type": "code",
   "execution_count": null,
   "metadata": {},
   "outputs": [],
   "source": [
    "csvfile = csv.reader"
   ]
  }
 ],
 "metadata": {
  "kernelspec": {
   "display_name": "Python 3",
   "language": "python",
   "name": "python3"
  },
  "language_info": {
   "codemirror_mode": {
    "name": "ipython",
    "version": 3
   },
   "file_extension": ".py",
   "mimetype": "text/x-python",
   "name": "python",
   "nbconvert_exporter": "python",
   "pygments_lexer": "ipython3",
   "version": "3.6.4"
  }
 },
 "nbformat": 4,
 "nbformat_minor": 2
}
