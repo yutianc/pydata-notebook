{
 "cells": [
  {
   "cell_type": "markdown",
   "metadata": {},
   "source": [
    "# 一. Python 数据分析概况\n",
    "\n",
    "## Python 数据分析大家族\n",
    "- numpy ： 数据结构基础\n",
    "- scipy ： 强大的科学计算方法（矩阵分析、信号分析、数理分析）\n",
    "- matplotlib ： 丰富的可视化套件\n",
    "- pandas : 基础数据分析套件\n",
    "- scikit-learn : 强大的数据分析建模库（数据挖掘、人工神经网络）\n",
    "- keras : 人工神经网络 （深度人工神经网络）\n",
    "\n"
   ]
  }
 ],
 "metadata": {
  "kernelspec": {
   "display_name": "Python 3",
   "language": "python",
   "name": "python3"
  },
  "language_info": {
   "codemirror_mode": {
    "name": "ipython",
    "version": 3
   },
   "file_extension": ".py",
   "mimetype": "text/x-python",
   "name": "python",
   "nbconvert_exporter": "python",
   "pygments_lexer": "ipython3",
   "version": "3.6.3"
  }
 },
 "nbformat": 4,
 "nbformat_minor": 2
}
