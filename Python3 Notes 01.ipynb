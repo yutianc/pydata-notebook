{
 "cells": [
  {
   "cell_type": "markdown",
   "metadata": {},
   "source": [
    "## Python3 基础语法\n",
    "\n",
    "#### 编码\n",
    "\n",
    "默认情况下，Python 3 源码文件以 UTF-8 编码，所有字符串都是 unicode 字符串。 当然你也可以为源码文件指定不同的编码：\n",
    "\n",
    "\\# -*- coding: cp-1252 -*-\n",
    "\n",
    "\n",
    "\n",
    "#### 标识符\n",
    "- 第一个字符必须是字母表中字母或下划线 _ 。\n",
    "- 标识符的其他的部分由字母、数字和下划线组成。\n",
    "- 标识符对大小写敏感。\n",
    "\n",
    "在 Python 3 中，非 ASCII 标识符也是允许的了。\n",
    "\n",
    "\n",
    "#### 注释\n",
    "\n",
    "- Python中单行注释以 # 开头\n",
    "\n",
    "- 多行注释可以用多个 # 号，还有 ''' 和 \"\"\"  (jupyter notebook 测试是不支持）\n"
   ]
  },
  {
   "cell_type": "code",
   "execution_count": 13,
   "metadata": {},
   "outputs": [
    {
     "name": "stdout",
     "output_type": "stream",
     "text": [
      "字符串\n",
      "这是一个句子。\n",
      "这是一个段落，\n",
      "可以由多行组成\n"
     ]
    }
   ],
   "source": [
    "#单行注释\n",
    "\n",
    "## \n",
    "#\"\"\"\n",
    "#多行注释\n",
    "#\"\"\"\n",
    "\n",
    "word = '字符串'\n",
    "sentence = \"这是一个句子。\"\n",
    "paragraph = \"\"\"这是一个段落，\n",
    "可以由多行组成\"\"\"\n",
    "\n",
    "print(word)\n",
    "print(sentence)\n",
    "print(paragraph)"
   ]
  },
  {
   "cell_type": "code",
   "execution_count": 14,
   "metadata": {},
   "outputs": [
    {
     "name": "stdout",
     "output_type": "stream",
     "text": [
      "Runoob\n",
      "Runoo\n",
      "R\n",
      "noo\n",
      "noob\n",
      "RunoobRunoob\n",
      "Runoob你好\n",
      "------------------------------\n",
      "hello\n",
      "runoob\n",
      "hello\\nrunoob\n"
     ]
    }
   ],
   "source": [
    "str='Runoob'\n",
    "\n",
    "print(str) # 输出字符串\n",
    "print(str[0:-1]) # 输出第一个到倒数第二个的所有字符\n",
    "print(str[0]) # 输出字符串第一个字符\n",
    "print(str[2:5]) # 输出从第三个开始到第五个的字符\n",
    "print(str[2:]) # 输出从第三个开始的后的所有字符\n",
    "print(str * 2) # 输出字符串两次\n",
    "print(str + '你好') # 连接字符串\n",
    "\n",
    "print('------------------------------')\n",
    "\n",
    "print('hello\\nrunoob') # 使用反斜杠(\\)+n转义特殊字符\n",
    "print(r'hello\\nrunoob') # 在字符串前面添加一个 r，表示原始字符串，不会发生转义"
   ]
  },
  {
   "cell_type": "code",
   "execution_count": 16,
   "metadata": {},
   "outputs": [
    {
     "name": "stdout",
     "output_type": "stream",
     "text": [
      "runoob\n",
      "you\n"
     ]
    }
   ],
   "source": [
    "# 同一行中输入多行代码，中间用 ； 分割\n",
    "import sys; x = 'runoob'; sys.stdout.write(x + '\\n'); print('you')"
   ]
  },
  {
   "cell_type": "code",
   "execution_count": null,
   "metadata": {},
   "outputs": [],
   "source": []
  },
  {
   "cell_type": "code",
   "execution_count": null,
   "metadata": {},
   "outputs": [],
   "source": []
  },
  {
   "cell_type": "code",
   "execution_count": null,
   "metadata": {},
   "outputs": [],
   "source": []
  },
  {
   "cell_type": "code",
   "execution_count": null,
   "metadata": {},
   "outputs": [],
   "source": []
  },
  {
   "cell_type": "code",
   "execution_count": null,
   "metadata": {},
   "outputs": [],
   "source": []
  },
  {
   "cell_type": "code",
   "execution_count": null,
   "metadata": {},
   "outputs": [],
   "source": []
  },
  {
   "cell_type": "code",
   "execution_count": null,
   "metadata": {},
   "outputs": [],
   "source": []
  },
  {
   "cell_type": "code",
   "execution_count": null,
   "metadata": {},
   "outputs": [],
   "source": []
  },
  {
   "cell_type": "code",
   "execution_count": null,
   "metadata": {},
   "outputs": [],
   "source": []
  },
  {
   "cell_type": "code",
   "execution_count": null,
   "metadata": {},
   "outputs": [],
   "source": []
  },
  {
   "cell_type": "code",
   "execution_count": null,
   "metadata": {},
   "outputs": [],
   "source": []
  },
  {
   "cell_type": "code",
   "execution_count": null,
   "metadata": {},
   "outputs": [],
   "source": []
  },
  {
   "cell_type": "code",
   "execution_count": null,
   "metadata": {},
   "outputs": [],
   "source": []
  },
  {
   "cell_type": "code",
   "execution_count": null,
   "metadata": {},
   "outputs": [],
   "source": []
  }
 ],
 "metadata": {
  "kernelspec": {
   "display_name": "Python 3",
   "language": "python",
   "name": "python3"
  },
  "language_info": {
   "codemirror_mode": {
    "name": "ipython",
    "version": 3
   },
   "file_extension": ".py",
   "mimetype": "text/x-python",
   "name": "python",
   "nbconvert_exporter": "python",
   "pygments_lexer": "ipython3",
   "version": "3.6.4"
  }
 },
 "nbformat": 4,
 "nbformat_minor": 2
}
